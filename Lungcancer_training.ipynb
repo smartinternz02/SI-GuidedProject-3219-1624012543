{
 "cells": [
  {
   "cell_type": "code",
   "execution_count": 1,
   "metadata": {},
   "outputs": [],
   "source": [
    "from tensorflow.keras.models import Sequential\n",
    "from tensorflow.keras.layers import Dense\n",
    "from tensorflow.keras.layers import Convolution2D\n",
    "from tensorflow.keras.layers import MaxPooling2D\n",
    "from tensorflow.keras.layers import Flatten\n"
   ]
  },
  {
   "cell_type": "code",
   "execution_count": 2,
   "metadata": {},
   "outputs": [],
   "source": [
    "from keras.preprocessing.image import ImageDataGenerator\n",
    "train_datagen = ImageDataGenerator(rescale = 1./255,shear_range = 0.2,zoom_range = 0.2,horizontal_flip = True)\n",
    "test_datagen = ImageDataGenerator(rescale = 1./255)"
   ]
  },
  {
   "cell_type": "code",
   "execution_count": 3,
   "metadata": {},
   "outputs": [
    {
     "name": "stdout",
     "output_type": "stream",
     "text": [
      "Found 102 images belonging to 2 classes.\n",
      "Found 40 images belonging to 2 classes.\n"
     ]
    }
   ],
   "source": [
    "# applying Image data generator functionality to train and test set\n",
    "x_train = train_datagen.flow_from_directory(\n",
    "    r'C:\\Users\\chakri\\OneDrive\\Desktop\\Lung Cancer Disease Prediction\\Lungcancer\\trainset'\n",
    "    ,target_size = (64,64),batch_size = 32 ,\n",
    "    class_mode = 'binary',color_mode=\"grayscale\")\n",
    "x_test = test_datagen.flow_from_directory(\n",
    "    r'C:\\Users\\chakri\\OneDrive\\Desktop\\Lung Cancer Disease Prediction\\Lungcancer\\testset',\n",
    "    target_size = (64,64),batch_size = 32 , \n",
    "    class_mode = 'binary',color_mode=\"grayscale\")\n"
   ]
  },
  {
   "cell_type": "code",
   "execution_count": 4,
   "metadata": {},
   "outputs": [
    {
     "name": "stdout",
     "output_type": "stream",
     "text": [
      "{'Cancer': 0, 'NonCancer': 1}\n"
     ]
    }
   ],
   "source": [
    "print(x_train.class_indices)"
   ]
  },
  {
   "cell_type": "code",
   "execution_count": 5,
   "metadata": {},
   "outputs": [],
   "source": [
    "model = Sequential()"
   ]
  },
  {
   "cell_type": "code",
   "execution_count": 6,
   "metadata": {},
   "outputs": [],
   "source": [
    "model.add(Convolution2D(32,(3,3), input_shape = (64,64,1),activation = \"relu\"))"
   ]
  },
  {
   "cell_type": "code",
   "execution_count": 7,
   "metadata": {},
   "outputs": [],
   "source": [
    "model.add(MaxPooling2D(pool_size = (2,2)))"
   ]
  },
  {
   "cell_type": "code",
   "execution_count": 8,
   "metadata": {},
   "outputs": [],
   "source": [
    "model.add(Flatten()) # input layer"
   ]
  },
  {
   "cell_type": "code",
   "execution_count": 9,
   "metadata": {},
   "outputs": [],
   "source": [
    "model.add(Dense(units = 128,kernel_initializer = \"random_uniform\",activation = \"relu\")) #hidden layer"
   ]
  },
  {
   "cell_type": "code",
   "execution_count": 10,
   "metadata": {},
   "outputs": [],
   "source": [
    "model.add(Dense(units = 1,kernel_initializer = \"random_uniform\",activation = \"sigmoid\")) #output layer"
   ]
  },
  {
   "cell_type": "code",
   "execution_count": 11,
   "metadata": {},
   "outputs": [],
   "source": [
    "model.compile(loss = \"binary_crossentropy\",optimizer = \"adam\",metrics = [\"accuracy\"])"
   ]
  },
  {
   "cell_type": "code",
   "execution_count": 12,
   "metadata": {},
   "outputs": [
    {
     "name": "stderr",
     "output_type": "stream",
     "text": [
      "C:\\Users\\chakri\\AppData\\Roaming\\Python\\Python38\\site-packages\\tensorflow\\python\\keras\\engine\\training.py:1940: UserWarning: `Model.fit_generator` is deprecated and will be removed in a future version. Please use `Model.fit`, which supports generators.\n",
      "  warnings.warn('`Model.fit_generator` is deprecated and '\n"
     ]
    },
    {
     "name": "stdout",
     "output_type": "stream",
     "text": [
      "Epoch 1/100\n",
      "4/4 [==============================] - 1s 228ms/step - loss: 0.6960 - accuracy: 0.6078 - val_loss: 0.5942 - val_accuracy: 0.7250\n",
      "Epoch 2/100\n",
      "4/4 [==============================] - 1s 150ms/step - loss: 0.6340 - accuracy: 0.5686 - val_loss: 0.5640 - val_accuracy: 0.7500\n",
      "Epoch 3/100\n",
      "4/4 [==============================] - 1s 158ms/step - loss: 0.6176 - accuracy: 0.6373 - val_loss: 0.5922 - val_accuracy: 0.6500\n",
      "Epoch 4/100\n",
      "4/4 [==============================] - 1s 155ms/step - loss: 0.6400 - accuracy: 0.6275 - val_loss: 0.5981 - val_accuracy: 0.6250\n",
      "Epoch 5/100\n",
      "4/4 [==============================] - 1s 195ms/step - loss: 0.5518 - accuracy: 0.7549 - val_loss: 0.5178 - val_accuracy: 0.7250\n",
      "Epoch 6/100\n",
      "4/4 [==============================] - 1s 159ms/step - loss: 0.5556 - accuracy: 0.6667 - val_loss: 0.5968 - val_accuracy: 0.7250\n",
      "Epoch 7/100\n",
      "4/4 [==============================] - 1s 166ms/step - loss: 0.5170 - accuracy: 0.7549 - val_loss: 0.4972 - val_accuracy: 0.7000\n",
      "Epoch 8/100\n",
      "4/4 [==============================] - 1s 161ms/step - loss: 0.4697 - accuracy: 0.7745 - val_loss: 0.4605 - val_accuracy: 0.7500\n",
      "Epoch 9/100\n",
      "4/4 [==============================] - 1s 188ms/step - loss: 0.4698 - accuracy: 0.7843 - val_loss: 0.5418 - val_accuracy: 0.7500\n",
      "Epoch 10/100\n",
      "4/4 [==============================] - 1s 152ms/step - loss: 0.4734 - accuracy: 0.7647 - val_loss: 0.4402 - val_accuracy: 0.8000\n",
      "Epoch 11/100\n",
      "4/4 [==============================] - 1s 148ms/step - loss: 0.4508 - accuracy: 0.8137 - val_loss: 0.3834 - val_accuracy: 0.7750\n",
      "Epoch 12/100\n",
      "4/4 [==============================] - 1s 155ms/step - loss: 0.4271 - accuracy: 0.8137 - val_loss: 0.4385 - val_accuracy: 0.8250\n",
      "Epoch 13/100\n",
      "4/4 [==============================] - 1s 141ms/step - loss: 0.3983 - accuracy: 0.8235 - val_loss: 0.3910 - val_accuracy: 0.9000\n",
      "Epoch 14/100\n",
      "4/4 [==============================] - 1s 179ms/step - loss: 0.4907 - accuracy: 0.8039 - val_loss: 0.3210 - val_accuracy: 0.8250\n",
      "Epoch 15/100\n",
      "4/4 [==============================] - 1s 189ms/step - loss: 0.4561 - accuracy: 0.7255 - val_loss: 0.4757 - val_accuracy: 0.7500\n",
      "Epoch 16/100\n",
      "4/4 [==============================] - 1s 150ms/step - loss: 0.3743 - accuracy: 0.8529 - val_loss: 0.2769 - val_accuracy: 0.9000\n",
      "Epoch 17/100\n",
      "4/4 [==============================] - 1s 152ms/step - loss: 0.3732 - accuracy: 0.8333 - val_loss: 0.2857 - val_accuracy: 0.9250\n",
      "Epoch 18/100\n",
      "4/4 [==============================] - 1s 172ms/step - loss: 0.3444 - accuracy: 0.8725 - val_loss: 0.4703 - val_accuracy: 0.7750\n",
      "Epoch 19/100\n",
      "4/4 [==============================] - 1s 181ms/step - loss: 0.3495 - accuracy: 0.8529 - val_loss: 0.3204 - val_accuracy: 0.8750\n",
      "Epoch 20/100\n",
      "4/4 [==============================] - 1s 174ms/step - loss: 0.3257 - accuracy: 0.8529 - val_loss: 0.2367 - val_accuracy: 0.9250\n",
      "Epoch 21/100\n",
      "4/4 [==============================] - 1s 167ms/step - loss: 0.2778 - accuracy: 0.9118 - val_loss: 0.3924 - val_accuracy: 0.8500\n",
      "Epoch 22/100\n",
      "4/4 [==============================] - 1s 174ms/step - loss: 0.3214 - accuracy: 0.8529 - val_loss: 0.2244 - val_accuracy: 0.9000\n",
      "Epoch 23/100\n",
      "4/4 [==============================] - 1s 181ms/step - loss: 0.3340 - accuracy: 0.8431 - val_loss: 0.3079 - val_accuracy: 0.8750\n",
      "Epoch 24/100\n",
      "4/4 [==============================] - 1s 227ms/step - loss: 0.3775 - accuracy: 0.8137 - val_loss: 0.2654 - val_accuracy: 0.9000\n",
      "Epoch 25/100\n",
      "4/4 [==============================] - 1s 180ms/step - loss: 0.3212 - accuracy: 0.8627 - val_loss: 0.1946 - val_accuracy: 0.9250\n",
      "Epoch 26/100\n",
      "4/4 [==============================] - 1s 214ms/step - loss: 0.2533 - accuracy: 0.9314 - val_loss: 0.3374 - val_accuracy: 0.8500\n",
      "Epoch 27/100\n",
      "4/4 [==============================] - 1s 229ms/step - loss: 0.2731 - accuracy: 0.8824 - val_loss: 0.1911 - val_accuracy: 0.9500\n",
      "Epoch 28/100\n",
      "4/4 [==============================] - 1s 223ms/step - loss: 0.1984 - accuracy: 0.9314 - val_loss: 0.1620 - val_accuracy: 0.9500\n",
      "Epoch 29/100\n",
      "4/4 [==============================] - 1s 171ms/step - loss: 0.2029 - accuracy: 0.9412 - val_loss: 0.1433 - val_accuracy: 0.9500\n",
      "Epoch 30/100\n",
      "4/4 [==============================] - 1s 224ms/step - loss: 0.2266 - accuracy: 0.9118 - val_loss: 0.2058 - val_accuracy: 0.9000\n",
      "Epoch 31/100\n",
      "4/4 [==============================] - 1s 183ms/step - loss: 0.1580 - accuracy: 0.9510 - val_loss: 0.1408 - val_accuracy: 0.9500\n",
      "Epoch 32/100\n",
      "4/4 [==============================] - 1s 182ms/step - loss: 0.2033 - accuracy: 0.9216 - val_loss: 0.1425 - val_accuracy: 0.9750\n",
      "Epoch 33/100\n",
      "4/4 [==============================] - 1s 189ms/step - loss: 0.1677 - accuracy: 0.9510 - val_loss: 0.1584 - val_accuracy: 0.9750\n",
      "Epoch 34/100\n",
      "4/4 [==============================] - 1s 180ms/step - loss: 0.1593 - accuracy: 0.9510 - val_loss: 0.1217 - val_accuracy: 0.9750\n",
      "Epoch 35/100\n",
      "4/4 [==============================] - 1s 227ms/step - loss: 0.1530 - accuracy: 0.9706 - val_loss: 0.1736 - val_accuracy: 0.9750\n",
      "Epoch 36/100\n",
      "4/4 [==============================] - 1s 175ms/step - loss: 0.1604 - accuracy: 0.9706 - val_loss: 0.1140 - val_accuracy: 0.9500\n",
      "Epoch 37/100\n",
      "4/4 [==============================] - 1s 222ms/step - loss: 0.1622 - accuracy: 0.9706 - val_loss: 0.1262 - val_accuracy: 0.9750\n",
      "Epoch 38/100\n",
      "4/4 [==============================] - 1s 233ms/step - loss: 0.1256 - accuracy: 0.9510 - val_loss: 0.1854 - val_accuracy: 0.9500\n",
      "Epoch 39/100\n",
      "4/4 [==============================] - 1s 227ms/step - loss: 0.1485 - accuracy: 0.9314 - val_loss: 0.0933 - val_accuracy: 0.9750\n",
      "Epoch 40/100\n",
      "4/4 [==============================] - 1s 260ms/step - loss: 0.0968 - accuracy: 0.9804 - val_loss: 0.1677 - val_accuracy: 0.9500\n",
      "Epoch 41/100\n",
      "4/4 [==============================] - 1s 229ms/step - loss: 0.1298 - accuracy: 0.9314 - val_loss: 0.1152 - val_accuracy: 0.9500\n",
      "Epoch 42/100\n",
      "4/4 [==============================] - 1s 177ms/step - loss: 0.1384 - accuracy: 0.9412 - val_loss: 0.0727 - val_accuracy: 0.9750\n",
      "Epoch 43/100\n",
      "4/4 [==============================] - 1s 180ms/step - loss: 0.1477 - accuracy: 0.9608 - val_loss: 0.0663 - val_accuracy: 0.9750\n",
      "Epoch 44/100\n",
      "4/4 [==============================] - 1s 191ms/step - loss: 0.1199 - accuracy: 0.9706 - val_loss: 0.1545 - val_accuracy: 0.9250\n",
      "Epoch 45/100\n",
      "4/4 [==============================] - 1s 218ms/step - loss: 0.1154 - accuracy: 0.9608 - val_loss: 0.0515 - val_accuracy: 1.0000\n",
      "Epoch 46/100\n",
      "4/4 [==============================] - 1s 177ms/step - loss: 0.1075 - accuracy: 0.9804 - val_loss: 0.2569 - val_accuracy: 0.8500\n",
      "Epoch 47/100\n",
      "4/4 [==============================] - 1s 175ms/step - loss: 0.1175 - accuracy: 0.9706 - val_loss: 0.0975 - val_accuracy: 0.9750\n",
      "Epoch 48/100\n",
      "4/4 [==============================] - 1s 174ms/step - loss: 0.1620 - accuracy: 0.9412 - val_loss: 0.1887 - val_accuracy: 0.9000\n",
      "Epoch 49/100\n",
      "4/4 [==============================] - 1s 183ms/step - loss: 0.2157 - accuracy: 0.9118 - val_loss: 0.1365 - val_accuracy: 0.9500\n",
      "Epoch 50/100\n",
      "4/4 [==============================] - 1s 175ms/step - loss: 0.1635 - accuracy: 0.9314 - val_loss: 0.1179 - val_accuracy: 0.9500\n",
      "Epoch 51/100\n",
      "4/4 [==============================] - 1s 168ms/step - loss: 0.2369 - accuracy: 0.9118 - val_loss: 0.2604 - val_accuracy: 0.8750\n",
      "Epoch 52/100\n",
      "4/4 [==============================] - 1s 176ms/step - loss: 0.1355 - accuracy: 0.9608 - val_loss: 0.0937 - val_accuracy: 0.9750\n",
      "Epoch 53/100\n",
      "4/4 [==============================] - 1s 171ms/step - loss: 0.0915 - accuracy: 0.9902 - val_loss: 0.0661 - val_accuracy: 0.9750\n",
      "Epoch 54/100\n",
      "4/4 [==============================] - 1s 199ms/step - loss: 0.0747 - accuracy: 1.0000 - val_loss: 0.1159 - val_accuracy: 0.9750\n",
      "Epoch 55/100\n",
      "4/4 [==============================] - 1s 223ms/step - loss: 0.0965 - accuracy: 0.9706 - val_loss: 0.0686 - val_accuracy: 0.9750\n",
      "Epoch 56/100\n",
      "4/4 [==============================] - 1s 221ms/step - loss: 0.0852 - accuracy: 0.9804 - val_loss: 0.0392 - val_accuracy: 1.0000\n",
      "Epoch 57/100\n",
      "4/4 [==============================] - 1s 179ms/step - loss: 0.0865 - accuracy: 0.9804 - val_loss: 0.0346 - val_accuracy: 1.0000\n",
      "Epoch 58/100\n",
      "4/4 [==============================] - 1s 169ms/step - loss: 0.0793 - accuracy: 0.9804 - val_loss: 0.0694 - val_accuracy: 0.9750\n"
     ]
    },
    {
     "name": "stdout",
     "output_type": "stream",
     "text": [
      "Epoch 59/100\n",
      "4/4 [==============================] - 1s 175ms/step - loss: 0.0767 - accuracy: 0.9804 - val_loss: 0.0292 - val_accuracy: 1.0000\n",
      "Epoch 60/100\n",
      "4/4 [==============================] - 1s 168ms/step - loss: 0.0813 - accuracy: 0.9706 - val_loss: 0.0266 - val_accuracy: 1.0000\n",
      "Epoch 61/100\n",
      "4/4 [==============================] - 1s 213ms/step - loss: 0.0630 - accuracy: 0.9902 - val_loss: 0.0282 - val_accuracy: 1.0000\n",
      "Epoch 62/100\n",
      "4/4 [==============================] - 1s 172ms/step - loss: 0.0976 - accuracy: 0.9706 - val_loss: 0.0292 - val_accuracy: 1.0000\n",
      "Epoch 63/100\n",
      "4/4 [==============================] - 1s 212ms/step - loss: 0.1027 - accuracy: 0.9510 - val_loss: 0.0210 - val_accuracy: 1.0000\n",
      "Epoch 64/100\n",
      "4/4 [==============================] - 1s 172ms/step - loss: 0.0623 - accuracy: 0.9804 - val_loss: 0.0193 - val_accuracy: 1.0000\n",
      "Epoch 65/100\n",
      "4/4 [==============================] - 1s 174ms/step - loss: 0.1063 - accuracy: 0.9608 - val_loss: 0.0569 - val_accuracy: 1.0000\n",
      "Epoch 66/100\n",
      "4/4 [==============================] - 1s 172ms/step - loss: 0.0987 - accuracy: 0.9608 - val_loss: 0.0174 - val_accuracy: 1.0000\n",
      "Epoch 67/100\n",
      "4/4 [==============================] - 1s 211ms/step - loss: 0.0787 - accuracy: 0.9804 - val_loss: 0.0241 - val_accuracy: 1.0000\n",
      "Epoch 68/100\n",
      "4/4 [==============================] - 1s 213ms/step - loss: 0.0527 - accuracy: 1.0000 - val_loss: 0.0390 - val_accuracy: 1.0000\n",
      "Epoch 69/100\n",
      "4/4 [==============================] - 1s 211ms/step - loss: 0.0587 - accuracy: 0.9804 - val_loss: 0.0412 - val_accuracy: 1.0000\n",
      "Epoch 70/100\n",
      "4/4 [==============================] - 1s 165ms/step - loss: 0.0722 - accuracy: 0.9804 - val_loss: 0.0179 - val_accuracy: 1.0000\n",
      "Epoch 71/100\n",
      "4/4 [==============================] - 1s 214ms/step - loss: 0.0389 - accuracy: 0.9902 - val_loss: 0.0214 - val_accuracy: 1.0000\n",
      "Epoch 72/100\n",
      "4/4 [==============================] - 1s 186ms/step - loss: 0.0525 - accuracy: 0.9902 - val_loss: 0.1082 - val_accuracy: 0.9750\n",
      "Epoch 73/100\n",
      "4/4 [==============================] - 1s 171ms/step - loss: 0.0735 - accuracy: 0.9706 - val_loss: 0.0202 - val_accuracy: 1.0000\n",
      "Epoch 74/100\n",
      "4/4 [==============================] - 1s 178ms/step - loss: 0.0744 - accuracy: 0.9706 - val_loss: 0.0168 - val_accuracy: 1.0000\n",
      "Epoch 75/100\n",
      "4/4 [==============================] - 1s 218ms/step - loss: 0.0579 - accuracy: 0.9902 - val_loss: 0.0173 - val_accuracy: 1.0000\n",
      "Epoch 76/100\n",
      "4/4 [==============================] - 1s 172ms/step - loss: 0.0341 - accuracy: 1.0000 - val_loss: 0.0185 - val_accuracy: 1.0000\n",
      "Epoch 77/100\n",
      "4/4 [==============================] - 1s 176ms/step - loss: 0.0465 - accuracy: 0.9902 - val_loss: 0.0126 - val_accuracy: 1.0000\n",
      "Epoch 78/100\n",
      "4/4 [==============================] - 1s 214ms/step - loss: 0.0223 - accuracy: 1.0000 - val_loss: 0.0108 - val_accuracy: 1.0000\n",
      "Epoch 79/100\n",
      "4/4 [==============================] - 1s 171ms/step - loss: 0.0240 - accuracy: 1.0000 - val_loss: 0.0135 - val_accuracy: 1.0000\n",
      "Epoch 80/100\n",
      "4/4 [==============================] - 1s 176ms/step - loss: 0.0303 - accuracy: 1.0000 - val_loss: 0.0162 - val_accuracy: 1.0000\n",
      "Epoch 81/100\n",
      "4/4 [==============================] - 1s 173ms/step - loss: 0.0407 - accuracy: 1.0000 - val_loss: 0.0130 - val_accuracy: 1.0000\n",
      "Epoch 82/100\n",
      "4/4 [==============================] - 1s 173ms/step - loss: 0.0523 - accuracy: 0.9902 - val_loss: 0.0143 - val_accuracy: 1.0000\n",
      "Epoch 83/100\n",
      "4/4 [==============================] - 1s 168ms/step - loss: 0.0428 - accuracy: 1.0000 - val_loss: 0.0192 - val_accuracy: 1.0000\n",
      "Epoch 84/100\n",
      "4/4 [==============================] - 1s 211ms/step - loss: 0.0415 - accuracy: 1.0000 - val_loss: 0.0079 - val_accuracy: 1.0000\n",
      "Epoch 85/100\n",
      "4/4 [==============================] - 1s 172ms/step - loss: 0.0409 - accuracy: 0.9804 - val_loss: 0.0065 - val_accuracy: 1.0000\n",
      "Epoch 86/100\n",
      "4/4 [==============================] - 1s 206ms/step - loss: 0.0261 - accuracy: 1.0000 - val_loss: 0.0147 - val_accuracy: 1.0000\n",
      "Epoch 87/100\n",
      "4/4 [==============================] - 1s 179ms/step - loss: 0.0626 - accuracy: 0.9804 - val_loss: 0.0061 - val_accuracy: 1.0000\n",
      "Epoch 88/100\n",
      "4/4 [==============================] - 1s 171ms/step - loss: 0.0503 - accuracy: 0.9804 - val_loss: 0.0058 - val_accuracy: 1.0000\n",
      "Epoch 89/100\n",
      "4/4 [==============================] - 1s 173ms/step - loss: 0.0518 - accuracy: 0.9902 - val_loss: 0.0099 - val_accuracy: 1.0000\n",
      "Epoch 90/100\n",
      "4/4 [==============================] - 1s 172ms/step - loss: 0.0247 - accuracy: 0.9902 - val_loss: 0.0055 - val_accuracy: 1.0000\n",
      "Epoch 91/100\n",
      "4/4 [==============================] - 1s 171ms/step - loss: 0.0209 - accuracy: 1.0000 - val_loss: 0.0051 - val_accuracy: 1.0000\n",
      "Epoch 92/100\n",
      "4/4 [==============================] - 1s 174ms/step - loss: 0.0362 - accuracy: 0.9804 - val_loss: 0.0055 - val_accuracy: 1.0000\n",
      "Epoch 93/100\n",
      "4/4 [==============================] - 1s 175ms/step - loss: 0.0227 - accuracy: 1.0000 - val_loss: 0.0060 - val_accuracy: 1.0000\n",
      "Epoch 94/100\n",
      "4/4 [==============================] - 1s 170ms/step - loss: 0.0187 - accuracy: 1.0000 - val_loss: 0.0046 - val_accuracy: 1.0000\n",
      "Epoch 95/100\n",
      "4/4 [==============================] - 1s 213ms/step - loss: 0.0219 - accuracy: 1.0000 - val_loss: 0.0051 - val_accuracy: 1.0000\n",
      "Epoch 96/100\n",
      "4/4 [==============================] - 1s 171ms/step - loss: 0.0131 - accuracy: 1.0000 - val_loss: 0.0070 - val_accuracy: 1.0000\n",
      "Epoch 97/100\n",
      "4/4 [==============================] - 1s 169ms/step - loss: 0.0226 - accuracy: 1.0000 - val_loss: 0.0051 - val_accuracy: 1.0000\n",
      "Epoch 98/100\n",
      "4/4 [==============================] - 1s 211ms/step - loss: 0.0136 - accuracy: 1.0000 - val_loss: 0.0070 - val_accuracy: 1.0000\n",
      "Epoch 99/100\n",
      "4/4 [==============================] - 1s 173ms/step - loss: 0.0142 - accuracy: 1.0000 - val_loss: 0.0054 - val_accuracy: 1.0000\n",
      "Epoch 100/100\n",
      "4/4 [==============================] - 1s 174ms/step - loss: 0.0146 - accuracy: 1.0000 - val_loss: 0.0042 - val_accuracy: 1.0000\n"
     ]
    },
    {
     "data": {
      "text/plain": [
       "<tensorflow.python.keras.callbacks.History at 0x1e5271ec610>"
      ]
     },
     "execution_count": 12,
     "metadata": {},
     "output_type": "execute_result"
    }
   ],
   "source": [
    "model.fit_generator(x_train , steps_per_epoch = 4, epochs = 100, validation_data = x_test, validation_steps = 2)"
   ]
  },
  {
   "cell_type": "code",
   "execution_count": 13,
   "metadata": {},
   "outputs": [],
   "source": [
    "model.save(\"LungCancer.h5\")"
   ]
  }
 ],
 "metadata": {
  "kernelspec": {
   "display_name": "Python 3",
   "language": "python",
   "name": "python3"
  },
  "language_info": {
   "codemirror_mode": {
    "name": "ipython",
    "version": 3
   },
   "file_extension": ".py",
   "mimetype": "text/x-python",
   "name": "python",
   "nbconvert_exporter": "python",
   "pygments_lexer": "ipython3",
   "version": "3.8.5"
  }
 },
 "nbformat": 4,
 "nbformat_minor": 2
}
